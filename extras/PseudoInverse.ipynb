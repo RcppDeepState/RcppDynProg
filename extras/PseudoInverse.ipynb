{
 "cells": [
  {
   "cell_type": "code",
   "execution_count": 1,
   "metadata": {},
   "outputs": [],
   "source": [
    "import sympy"
   ]
  },
  {
   "cell_type": "code",
   "execution_count": 2,
   "metadata": {},
   "outputs": [],
   "source": [
    "a = sympy.Symbol(\"a\")\n",
    "b = sympy.Symbol(\"b\")\n",
    "c = sympy.Symbol(\"c\")\n",
    "d = sympy.Symbol(\"d\")\n",
    "e = sympy.Symbol(\"e\")\n",
    "f = sympy.Symbol(\"f\")\n",
    "g = sympy.Symbol(\"g\")\n",
    "h = sympy.Symbol(\"h\")"
   ]
  },
  {
   "cell_type": "code",
   "execution_count": 3,
   "metadata": {},
   "outputs": [],
   "source": [
    "m = [[a, b], [c, d]]"
   ]
  },
  {
   "cell_type": "code",
   "execution_count": 4,
   "metadata": {},
   "outputs": [
    {
     "data": {
      "text/plain": [
       "[[a, b], [c, d]]"
      ]
     },
     "execution_count": 4,
     "metadata": {},
     "output_type": "execute_result"
    }
   ],
   "source": [
    "m"
   ]
  },
  {
   "cell_type": "code",
   "execution_count": 5,
   "metadata": {},
   "outputs": [],
   "source": [
    "mt = [[a, c], [b, d]]"
   ]
  },
  {
   "cell_type": "code",
   "execution_count": 6,
   "metadata": {},
   "outputs": [
    {
     "data": {
      "text/plain": [
       "[[a, c], [b, d]]"
      ]
     },
     "execution_count": 6,
     "metadata": {},
     "output_type": "execute_result"
    }
   ],
   "source": [
    "mt"
   ]
  },
  {
   "cell_type": "code",
   "execution_count": 7,
   "metadata": {},
   "outputs": [],
   "source": [
    "def mult(m1, m2):\n",
    "    \"\"\"multiply to 2 by 2 symbolix matrices (row ordered nested lists)\"\"\"\n",
    "    return([[ m1[0][0]*m2[0][0] + m1[0][1]*m2[1][0], m1[0][0]*m2[0][1] + m1[0][1]*m2[1][1] ], \\\n",
    "            [ m1[1][0]*m2[0][0] + m1[1][1]*m2[1][0], m1[1][0]*m2[0][1] + m1[1][1]*m2[1][1] ] ] )"
   ]
  },
  {
   "cell_type": "code",
   "execution_count": 8,
   "metadata": {},
   "outputs": [
    {
     "data": {
      "text/plain": [
       "[[a*e + b*g, a*f + b*h], [c*e + d*g, c*f + d*h]]"
      ]
     },
     "execution_count": 8,
     "metadata": {},
     "output_type": "execute_result"
    }
   ],
   "source": [
    "mult([[a,b],[c,d]],[[e,f],[g,h]])"
   ]
  },
  {
   "cell_type": "code",
   "execution_count": 9,
   "metadata": {},
   "outputs": [
    {
     "data": {
      "text/plain": [
       "[[a*(a**2 + c**2) + b*(a*b + c*d), a*(a*b + c*d) + b*(b**2 + d**2)],\n",
       " [c*(a**2 + c**2) + d*(a*b + c*d), c*(a*b + c*d) + d*(b**2 + d**2)]]"
      ]
     },
     "execution_count": 9,
     "metadata": {},
     "output_type": "execute_result"
    }
   ],
   "source": [
    "prod = mult(m, mult(mt, m))\n",
    "prod"
   ]
  },
  {
   "cell_type": "code",
   "execution_count": 10,
   "metadata": {},
   "outputs": [
    {
     "data": {
      "text/plain": [
       "[[a*(a**2 + b**2 + c**2 + d**2), b*(a**2 + b**2 + c**2 + d**2)],\n",
       " [c*(a**2 + b**2 + c**2 + d**2), d*(a**2 + b**2 + c**2 + d**2)]]"
      ]
     },
     "execution_count": 10,
     "metadata": {},
     "output_type": "execute_result"
    }
   ],
   "source": [
    "scale = a**2 + b**2 + c**2 + d**2\n",
    "pi = [[scale*a, scale*b],[scale*c, scale*d]]\n",
    "pi"
   ]
  },
  {
   "cell_type": "code",
   "execution_count": 11,
   "metadata": {},
   "outputs": [],
   "source": [
    "def add(m1, m2):\n",
    "    return([[sympy.simplify(m1[0][0]+ m2[0][0]), sympy.simplify(m1[0][1]+ m2[0][1])], \\\n",
    "           [sympy.simplify(m1[1][0]+ m2[1][0]), sympy.simplify(m1[1][1]+ m2[1][1])]])\n",
    "\n",
    "def subtract(m1, m2):\n",
    "    return([[sympy.simplify(m1[0][0]- m2[0][0]), sympy.simplify(m1[0][1]- m2[0][1])], \\\n",
    "           [sympy.simplify(m1[1][0]- m2[1][0]), sympy.simplify(m1[1][1]- m2[1][1])]])"
   ]
  },
  {
   "cell_type": "code",
   "execution_count": 12,
   "metadata": {},
   "outputs": [
    {
     "data": {
      "text/plain": [
       "[[d*(-a*d + b*c), c*(a*d - b*c)], [b*(a*d - b*c), a*(-a*d + b*c)]]"
      ]
     },
     "execution_count": 12,
     "metadata": {},
     "output_type": "execute_result"
    }
   ],
   "source": [
    "diff = subtract(prod,pi)\n",
    "diff"
   ]
  },
  {
   "cell_type": "code",
   "execution_count": 13,
   "metadata": {},
   "outputs": [
    {
     "data": {
      "text/plain": [
       "a*d - b*c"
      ]
     },
     "execution_count": 13,
     "metadata": {},
     "output_type": "execute_result"
    }
   ],
   "source": [
    "reln = a*d-b*c\n",
    "reln"
   ]
  },
  {
   "cell_type": "code",
   "execution_count": 14,
   "metadata": {},
   "outputs": [
    {
     "data": {
      "text/plain": [
       "(-d, 0)"
      ]
     },
     "execution_count": 14,
     "metadata": {},
     "output_type": "execute_result"
    }
   ],
   "source": [
    "sympy.div(sympy.simplify(prod[0][0]- pi[0][0]), reln)"
   ]
  },
  {
   "cell_type": "code",
   "execution_count": 15,
   "metadata": {},
   "outputs": [
    {
     "data": {
      "text/plain": [
       "[[a**3 + a*b**2 + a*c**2 + b*c*d, a**2*b + a*c*d + b**3 + b*d**2],\n",
       " [a**2*c + a*b*d + c**3 + c*d**2, a*b*c + b**2*d + c**2*d + d**3]]"
      ]
     },
     "execution_count": 15,
     "metadata": {},
     "output_type": "execute_result"
    }
   ],
   "source": [
    "soln = add(pi, [[reln*(-d), reln*c],[reln*b, reln*(-a)]])\n",
    "soln"
   ]
  },
  {
   "cell_type": "code",
   "execution_count": 16,
   "metadata": {},
   "outputs": [
    {
     "data": {
      "text/plain": [
       "[[0, 0], [0, 0]]"
      ]
     },
     "execution_count": 16,
     "metadata": {},
     "output_type": "execute_result"
    }
   ],
   "source": [
    "subtract(prod, soln)"
   ]
  },
  {
   "cell_type": "code",
   "execution_count": null,
   "metadata": {},
   "outputs": [],
   "source": []
  }
 ],
 "metadata": {
  "kernelspec": {
   "display_name": "Python 3",
   "language": "python",
   "name": "python3"
  },
  "language_info": {
   "codemirror_mode": {
    "name": "ipython",
    "version": 3
   },
   "file_extension": ".py",
   "mimetype": "text/x-python",
   "name": "python",
   "nbconvert_exporter": "python",
   "pygments_lexer": "ipython3",
   "version": "3.6.5"
  }
 },
 "nbformat": 4,
 "nbformat_minor": 2
}
