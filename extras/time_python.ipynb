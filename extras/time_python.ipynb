{
 "cells": [
  {
   "cell_type": "code",
   "execution_count": 1,
   "metadata": {},
   "outputs": [
    {
     "name": "stdout",
     "output_type": "stream",
     "text": [
      "[1, 109, 230, 267, 501]\n",
      "39.42312186780619\n"
     ]
    }
   ],
   "source": [
    "\n",
    "import pandas\n",
    "import timeit\n",
    "\n",
    "from DynProg import *\n",
    "\n",
    "x = pandas.read_csv('costs.csv')\n",
    "\n",
    "s1 = solve_dynamic_program(x.values, 500)\n",
    "print(s1)\n",
    "\n",
    "reps = 5\n",
    "\n",
    "start = timeit.default_timer()\n",
    "for i in range(reps):\n",
    "    solve_dynamic_program(x.values, 500)\n",
    "end = timeit.default_timer()\n",
    "\n",
    "delta = end - start\n",
    "print(delta/reps)\n"
   ]
  },
  {
   "cell_type": "markdown",
   "metadata": {},
   "source": [
    "Timings on a 2018 Dell XPS-13 laptop, 16 Gib RAM, LPDDR3, 2133 MT/s, Intel(R) Core(TM) i5-8250U CPU @ 1.60GHz (8 cores reported), idle, charged, and plugged into power supply. Ubuntu 18.04.1 LTS.\n"
   ]
  },
  {
   "cell_type": "code",
   "execution_count": 2,
   "metadata": {},
   "outputs": [
    {
     "name": "stdout",
     "output_type": "stream",
     "text": [
      "sys.version_info(major=3, minor=7, micro=0, releaselevel='final', serial=0)\n",
      "1.15.1\n",
      "0.23.4\n"
     ]
    }
   ],
   "source": [
    "import sys\n",
    "\n",
    "print(sys.version_info)\n",
    "\n",
    "print(numpy.__version__)\n",
    "print(pandas.__version__)\n"
   ]
  },
  {
   "cell_type": "code",
   "execution_count": null,
   "metadata": {},
   "outputs": [],
   "source": []
  }
 ],
 "metadata": {
  "kernelspec": {
   "display_name": "Python 3",
   "language": "python",
   "name": "python3"
  },
  "language_info": {
   "codemirror_mode": {
    "name": "ipython",
    "version": 3
   },
   "file_extension": ".py",
   "mimetype": "text/x-python",
   "name": "python",
   "nbconvert_exporter": "python",
   "pygments_lexer": "ipython3",
   "version": "3.7.0"
  }
 },
 "nbformat": 4,
 "nbformat_minor": 2
}
