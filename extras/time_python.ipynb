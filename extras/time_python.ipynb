{
 "cells": [
  {
   "cell_type": "code",
   "execution_count": 1,
   "metadata": {},
   "outputs": [
    {
     "name": "stdout",
     "output_type": "stream",
     "text": [
      "[1, 109, 230, 267, 501]\n",
      "63.45347154680057\n"
     ]
    }
   ],
   "source": [
    "\n",
    "import pandas\n",
    "import timeit\n",
    "\n",
    "from DynProg import *\n",
    "\n",
    "x = pandas.read_csv('costs.csv')\n",
    "\n",
    "s1 = solve_dynamic_program(x.values, 500)\n",
    "print(s1)\n",
    "\n",
    "reps = 5\n",
    "\n",
    "start = timeit.default_timer()\n",
    "for i in range(reps):\n",
    "    solve_dynamic_program(x.values, 500)\n",
    "end = timeit.default_timer()\n",
    "\n",
    "delta = end - start\n",
    "print(delta/reps)\n"
   ]
  },
  {
   "cell_type": "code",
   "execution_count": null,
   "metadata": {},
   "outputs": [],
   "source": []
  }
 ],
 "metadata": {
  "kernelspec": {
   "display_name": "Python 3",
   "language": "python",
   "name": "python3"
  },
  "language_info": {
   "codemirror_mode": {
    "name": "ipython",
    "version": 3
   },
   "file_extension": ".py",
   "mimetype": "text/x-python",
   "name": "python",
   "nbconvert_exporter": "python",
   "pygments_lexer": "ipython3",
   "version": "3.7.0"
  }
 },
 "nbformat": 4,
 "nbformat_minor": 2
}
