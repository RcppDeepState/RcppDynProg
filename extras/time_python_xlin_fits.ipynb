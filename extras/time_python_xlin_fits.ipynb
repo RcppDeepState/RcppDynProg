{
 "cells": [
  {
   "cell_type": "code",
   "execution_count": 1,
   "metadata": {},
   "outputs": [
    {
     "data": {
      "text/plain": [
       "array([2.666715  , 1.28571541, 1.28571214, 2.66666833])"
      ]
     },
     "execution_count": 1,
     "metadata": {},
     "output_type": "execute_result"
    }
   ],
   "source": [
    "\n",
    "import numpy\n",
    "import pandas\n",
    "import timeit\n",
    "\n",
    "from xlin_fits_py import *\n",
    "\n",
    "x = numpy.asarray([1 ,2, 3, 4])\n",
    "y = numpy.asarray([1, 2, 2, 1])\n",
    "w = numpy.asarray([1, 1, 1, 1])\n",
    "xlin_fits_py(x, y, w)\n",
    "\n",
    "\n"
   ]
  },
  {
   "cell_type": "code",
   "execution_count": 2,
   "metadata": {},
   "outputs": [
    {
     "data": {
      "text/html": [
       "<div>\n",
       "<style scoped>\n",
       "    .dataframe tbody tr th:only-of-type {\n",
       "        vertical-align: middle;\n",
       "    }\n",
       "\n",
       "    .dataframe tbody tr th {\n",
       "        vertical-align: top;\n",
       "    }\n",
       "\n",
       "    .dataframe thead th {\n",
       "        text-align: right;\n",
       "    }\n",
       "</style>\n",
       "<table border=\"1\" class=\"dataframe\">\n",
       "  <thead>\n",
       "    <tr style=\"text-align: right;\">\n",
       "      <th></th>\n",
       "      <th>x</th>\n",
       "      <th>y_ideal</th>\n",
       "      <th>y_observed</th>\n",
       "    </tr>\n",
       "  </thead>\n",
       "  <tbody>\n",
       "    <tr>\n",
       "      <th>0</th>\n",
       "      <td>0.05</td>\n",
       "      <td>0.000225</td>\n",
       "      <td>0.364908</td>\n",
       "    </tr>\n",
       "    <tr>\n",
       "      <th>1</th>\n",
       "      <td>0.10</td>\n",
       "      <td>0.000900</td>\n",
       "      <td>-0.276452</td>\n",
       "    </tr>\n",
       "    <tr>\n",
       "      <th>2</th>\n",
       "      <td>0.15</td>\n",
       "      <td>0.002025</td>\n",
       "      <td>-0.454201</td>\n",
       "    </tr>\n",
       "    <tr>\n",
       "      <th>3</th>\n",
       "      <td>0.20</td>\n",
       "      <td>0.003600</td>\n",
       "      <td>0.151627</td>\n",
       "    </tr>\n",
       "    <tr>\n",
       "      <th>4</th>\n",
       "      <td>0.25</td>\n",
       "      <td>0.005625</td>\n",
       "      <td>-0.192913</td>\n",
       "    </tr>\n",
       "  </tbody>\n",
       "</table>\n",
       "</div>"
      ],
      "text/plain": [
       "      x   y_ideal  y_observed\n",
       "0  0.05  0.000225    0.364908\n",
       "1  0.10  0.000900   -0.276452\n",
       "2  0.15  0.002025   -0.454201\n",
       "3  0.20  0.003600    0.151627\n",
       "4  0.25  0.005625   -0.192913"
      ]
     },
     "execution_count": 2,
     "metadata": {},
     "output_type": "execute_result"
    }
   ],
   "source": [
    "d = pandas.read_csv('xlin_data.csv.gz', compression='gzip')\n",
    "d.head()\n"
   ]
  },
  {
   "cell_type": "code",
   "execution_count": 3,
   "metadata": {},
   "outputs": [],
   "source": [
    "x = numpy.asarray(d[\"x\"].tolist())\n",
    "y_observed = numpy.asarray(d[\"y_observed\"].tolist())\n",
    "w = numpy.zeros(len(x)) + 1"
   ]
  },
  {
   "cell_type": "code",
   "execution_count": 4,
   "metadata": {},
   "outputs": [],
   "source": [
    "s1 = xlin_fits_py(x, y_observed, w)"
   ]
  },
  {
   "cell_type": "code",
   "execution_count": 5,
   "metadata": {},
   "outputs": [
    {
     "name": "stdout",
     "output_type": "stream",
     "text": [
      "0.37874232300091537\n"
     ]
    }
   ],
   "source": [
    "\n",
    "reps = 10\n",
    "\n",
    "start = timeit.default_timer()\n",
    "for i in range(reps):\n",
    "    xlin_fits_py(x, y_observed, w)\n",
    "end = timeit.default_timer()\n",
    "\n",
    "delta = end - start\n",
    "print(delta/reps)"
   ]
  },
  {
   "cell_type": "code",
   "execution_count": null,
   "metadata": {},
   "outputs": [],
   "source": []
  }
 ],
 "metadata": {
  "kernelspec": {
   "display_name": "Python 3",
   "language": "python",
   "name": "python3"
  },
  "language_info": {
   "codemirror_mode": {
    "name": "ipython",
    "version": 3
   },
   "file_extension": ".py",
   "mimetype": "text/x-python",
   "name": "python",
   "nbconvert_exporter": "python",
   "pygments_lexer": "ipython3",
   "version": "3.6.5"
  }
 },
 "nbformat": 4,
 "nbformat_minor": 2
}
